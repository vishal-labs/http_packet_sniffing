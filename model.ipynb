{
 "cells": [
  {
   "cell_type": "code",
   "execution_count": 1,
   "id": "cb8833df-8e9b-47f3-b497-29b6b9cb602c",
   "metadata": {},
   "outputs": [],
   "source": [
    "import pandas as pd"
   ]
  },
  {
   "cell_type": "code",
   "execution_count": 3,
   "id": "e5be1419-3dc7-4932-85ea-c3c5a8181a74",
   "metadata": {},
   "outputs": [],
   "source": [
    "df = pd.read_parquet('DNS-testing.parquet',engine='pyarrow')"
   ]
  },
  {
   "cell_type": "code",
   "execution_count": 15,
   "id": "f9daf533-fbb3-4ac8-85a9-a9a7b5723851",
   "metadata": {},
   "outputs": [
    {
     "name": "stdout",
     "output_type": "stream",
     "text": [
      "0       DrDoS_DNS\n",
      "1       DrDoS_DNS\n",
      "2       DrDoS_DNS\n",
      "3       DrDoS_DNS\n",
      "4       DrDoS_DNS\n",
      "          ...    \n",
      "6698       Benign\n",
      "6699       Benign\n",
      "6700       Benign\n",
      "6701       Benign\n",
      "6702       Benign\n",
      "Name: Label, Length: 6703, dtype: category\n",
      "Categories (2, object): ['Benign', 'DrDoS_DNS']\n"
     ]
    }
   ],
   "source": [
    "print(df['Label'])"
   ]
  },
  {
   "cell_type": "code",
   "execution_count": 22,
   "id": "afeb3848-3884-43de-be32-49f579849e8b",
   "metadata": {},
   "outputs": [],
   "source": [
    "df2 = pd.read_parquet('CIC-DDoS-2019.parquet', engine='pyarrow')"
   ]
  },
  {
   "cell_type": "code",
   "execution_count": 23,
   "id": "d1b51851-88c7-4c23-819c-81b1b6eca073",
   "metadata": {},
   "outputs": [
    {
     "name": "stdout",
     "output_type": "stream",
     "text": [
      "          Protocol  Flow Duration  Total Fwd Packets  Total Backward Packets  \\\n",
      "0               17              1                  2                       0   \n",
      "1               17              2                  2                       0   \n",
      "2               17              1                  2                       0   \n",
      "3               17              1                  2                       0   \n",
      "4               17              1                  2                       0   \n",
      "...            ...            ...                ...                     ...   \n",
      "14137132        17           2017                  4                       0   \n",
      "14137133        17             68                  2                       0   \n",
      "14137134        17             33                  2                       0   \n",
      "14137135        17             64                  2                       0   \n",
      "14137136        17              1                  2                       0   \n",
      "\n",
      "          Fwd Packets Length Total  Bwd Packets Length Total  \\\n",
      "0                           2832.0                       0.0   \n",
      "1                           2944.0                       0.0   \n",
      "2                           2944.0                       0.0   \n",
      "3                           2944.0                       0.0   \n",
      "4                           2928.0                       0.0   \n",
      "...                            ...                       ...   \n",
      "14137132                    5888.0                       0.0   \n",
      "14137133                    2928.0                       0.0   \n",
      "14137134                    2944.0                       0.0   \n",
      "14137135                    2944.0                       0.0   \n",
      "14137136                    2544.0                       0.0   \n",
      "\n",
      "          Fwd Packet Length Max  Fwd Packet Length Min  \\\n",
      "0                        1416.0                 1416.0   \n",
      "1                        1472.0                 1472.0   \n",
      "2                        1472.0                 1472.0   \n",
      "3                        1472.0                 1472.0   \n",
      "4                        1464.0                 1464.0   \n",
      "...                         ...                    ...   \n",
      "14137132                 1472.0                 1472.0   \n",
      "14137133                 1464.0                 1464.0   \n",
      "14137134                 1472.0                 1472.0   \n",
      "14137135                 1472.0                 1472.0   \n",
      "14137136                 1272.0                 1272.0   \n",
      "\n",
      "          Fwd Packet Length Mean  Fwd Packet Length Std  ...  \\\n",
      "0                         1416.0                    0.0  ...   \n",
      "1                         1472.0                    0.0  ...   \n",
      "2                         1472.0                    0.0  ...   \n",
      "3                         1472.0                    0.0  ...   \n",
      "4                         1464.0                    0.0  ...   \n",
      "...                          ...                    ...  ...   \n",
      "14137132                  1472.0                    0.0  ...   \n",
      "14137133                  1464.0                    0.0  ...   \n",
      "14137134                  1472.0                    0.0  ...   \n",
      "14137135                  1472.0                    0.0  ...   \n",
      "14137136                  1272.0                    0.0  ...   \n",
      "\n",
      "          Fwd Seg Size Min  Active Mean  Active Std  Active Max  Active Min  \\\n",
      "0                       14          0.0         0.0         0.0         0.0   \n",
      "1                       14          0.0         0.0         0.0         0.0   \n",
      "2                       14          0.0         0.0         0.0         0.0   \n",
      "3                        8          0.0         0.0         0.0         0.0   \n",
      "4                        8          0.0         0.0         0.0         0.0   \n",
      "...                    ...          ...         ...         ...         ...   \n",
      "14137132                24          0.0         0.0         0.0         0.0   \n",
      "14137133                24          0.0         0.0         0.0         0.0   \n",
      "14137134                24          0.0         0.0         0.0         0.0   \n",
      "14137135                24          0.0         0.0         0.0         0.0   \n",
      "14137136                24          0.0         0.0         0.0         0.0   \n",
      "\n",
      "          Idle Mean  Idle Std  Idle Max  Idle Min  Label  \n",
      "0               0.0       0.0       0.0       0.0   LDAP  \n",
      "1               0.0       0.0       0.0       0.0   LDAP  \n",
      "2               0.0       0.0       0.0       0.0   LDAP  \n",
      "3               0.0       0.0       0.0       0.0   LDAP  \n",
      "4               0.0       0.0       0.0       0.0   LDAP  \n",
      "...             ...       ...       ...       ...    ...  \n",
      "14137132        0.0       0.0       0.0       0.0   LDAP  \n",
      "14137133        0.0       0.0       0.0       0.0   LDAP  \n",
      "14137134        0.0       0.0       0.0       0.0   LDAP  \n",
      "14137135        0.0       0.0       0.0       0.0   LDAP  \n",
      "14137136        0.0       0.0       0.0       0.0   LDAP  \n",
      "\n",
      "[14137137 rows x 78 columns]\n"
     ]
    }
   ],
   "source": [
    "print(df2)"
   ]
  }
 ],
 "metadata": {
  "kernelspec": {
   "display_name": "Python 3 (ipykernel)",
   "language": "python",
   "name": "python3"
  },
  "language_info": {
   "codemirror_mode": {
    "name": "ipython",
    "version": 3
   },
   "file_extension": ".py",
   "mimetype": "text/x-python",
   "name": "python",
   "nbconvert_exporter": "python",
   "pygments_lexer": "ipython3",
   "version": "3.13.3"
  }
 },
 "nbformat": 4,
 "nbformat_minor": 5
}
